{
 "cells": [
  {
   "cell_type": "markdown",
   "metadata": {},
   "source": [
    "<a name=\"anker1\"></a>\n",
    "# 1質点系の運動方程式\n",
    "---\n",
    "下図のように質量mの質点が減衰係数c、バネ定数kで変位uで運動する場合を考える\n",
    "\n",
    "\n",
    "<img src=\"https://github.com/TatsuyaKatayama/python4engineer/raw/images/mass_motion_eq.gif\">\n",
    "\n",
    "\n",
    "この場合、運動方程式は次のとおりである\n",
    "\n",
    "$$\n",
    "\\begin{equation*}\n",
    "m \\frac{d^2}{dt^2}u(t) + c \\frac{d}{dt}u(t) + ku(t) = F(t)\n",
    "\\end{equation*}\n",
    "$$"
   ]
  },
  {
   "cell_type": "markdown",
   "metadata": {},
   "source": [
    "## Sympyによる数式処理\n",
    "### 準備\n",
    "次の操作を実行する\n",
    "1. matplotlibをjupyter上で表示できるマジックコマンド\n",
    "2. numpyライブラリをnp名称でインポート\n",
    "3. sympyライブラリのインポート\n",
    "4. 数式表示のおまじない"
   ]
  },
  {
   "cell_type": "code",
   "execution_count": null,
   "metadata": {},
   "outputs": [],
   "source": []
  },
  {
   "cell_type": "markdown",
   "metadata": {},
   "source": [
    "### 運動方程式の定義\n",
    "まずは、変数や関数を定義する。\n",
    "1. 変位の関数であるu、外力の関数であるFを定義する。\n",
    "2. 時間、質量、減衰係数、ばね定数、１階の積分定数C1(初期速度)、２階の積分定数C2(初期変位）を定義する"
   ]
  },
  {
   "cell_type": "code",
   "execution_count": null,
   "metadata": {},
   "outputs": [],
   "source": []
  },
  {
   "cell_type": "markdown",
   "metadata": {},
   "source": [
    "次に運動方程式を定義する。\n",
    "\n",
    "* uとFはtの関数であることを考慮する\n",
    "* 運動方程式は右辺をゼロとした形で左辺をeq_moという関数としてすること\n",
    "* 定義したeq_moを表示する\n"
   ]
  },
  {
   "cell_type": "code",
   "execution_count": null,
   "metadata": {},
   "outputs": [],
   "source": []
  },
  {
   "cell_type": "markdown",
   "metadata": {},
   "source": [
    "## 非減衰自由振動\n",
    "---\n",
    "\n",
    "減衰0、外力0の条件下で、初速0,初期変位1の自由振動を計算する\n",
    "解くべき方程式は下記の通り。\n",
    "\n",
    "$$\n",
    "\\begin{align*}\n",
    "m \\frac{d^2u}{dt^2}  + ku & = 0 \\\\\n",
    "\\frac{du_0}{dt} &= 0 \\\\\n",
    "u_0 &= 1\n",
    "\\end{align*}\n",
    "$$\n",
    "\n",
    "m=1, k=4$\\pi^2$の場合のt=0～8のu(t)を各種方法でプロットする\n",
    "\n",
    "### Sympyによる数式処理\n",
    "eq_moをそのままu(t)について解くと計算負荷が大きいので、\n",
    "まずは c=0, F(t)=0を代入し非減衰自由振動方程式を作成する\n",
    "\n",
    "非減衰自由振動方程式の左辺をeq_freeとして表示する"
   ]
  },
  {
   "cell_type": "code",
   "execution_count": null,
   "metadata": {},
   "outputs": [],
   "source": []
  },
  {
   "cell_type": "markdown",
   "metadata": {},
   "source": [
    "eq_freeをu(t)について解いて表示する"
   ]
  },
  {
   "cell_type": "code",
   "execution_count": null,
   "metadata": {},
   "outputs": [],
   "source": []
  },
  {
   "cell_type": "markdown",
   "metadata": {},
   "source": [
    "よってsolu_free（右辺）の微分よりdu/dtは"
   ]
  },
  {
   "cell_type": "code",
   "execution_count": null,
   "metadata": {},
   "outputs": [],
   "source": []
  },
  {
   "cell_type": "markdown",
   "metadata": {},
   "source": [
    "t=0のとき、下記の境界条件があるので\n",
    "\n",
    "$$\n",
    "\\begin{align*}\n",
    "\\frac{du_0}{dt} &= 0 \\\\\n",
    "u_0 &= 1\n",
    "\\end{align*}\n",
    "$$\n",
    "\n",
    "連立方程式を解くとC1,C2は以下の通りである"
   ]
  },
  {
   "cell_type": "code",
   "execution_count": null,
   "metadata": {},
   "outputs": [],
   "source": []
  },
  {
   "cell_type": "markdown",
   "metadata": {},
   "source": [
    "上記で求めたC1,C2とm=1,k=4をsolu_freeに代入し、実部虚部をプロットする。"
   ]
  },
  {
   "cell_type": "code",
   "execution_count": null,
   "metadata": {},
   "outputs": [],
   "source": []
  },
  {
   "cell_type": "markdown",
   "metadata": {},
   "source": [
    "虚部が消えて実部だけになっていることが確認でき、解析的に階を得られた。\n",
    "また下記の通り、1Hzの固有周波数で自由振動していることがわかる。\n",
    "\n",
    "$$\n",
    "\\begin{align*}\n",
    "f &= \\frac{1}{2\\pi}\\sqrt\\frac{k}{m} \\\\\n",
    "f &= 1.0  \\quad [Hz]\n",
    "\\end{align*}\n",
    "$$\n"
   ]
  },
  {
   "cell_type": "markdown",
   "metadata": {},
   "source": [
    "### Scipyによる数値計算\n",
    "scipyのodeint（常微分方程式）ソルバを用いて同様の非減衰自由振動問題を計算する。\n",
    "\n",
    "$$\n",
    "\\begin{align*}\n",
    "m \\frac{d^2}{dt^2}u  + ku & = 0 \\\\\n",
    "\\frac{du_0}{dt} &= 0 \\\\\n",
    "u_0 &= 1\n",
    "\\end{align*}\n",
    "$$\n",
    "まずはscipyを使う準備\n",
    "1. matplotlibライブラリのpyplotモジュールをpltという名称でインポート\n",
    "2. scipy.integrateモジュール内のode関数をインポート"
   ]
  },
  {
   "cell_type": "code",
   "execution_count": null,
   "metadata": {},
   "outputs": [],
   "source": []
  },
  {
   "cell_type": "markdown",
   "metadata": {},
   "source": [
    "まずは、下記のように変数変換を考える\n",
    "\n",
    "$$\n",
    "\\frac{d}{dt}u := v\n",
    "$$\n",
    "\n",
    "この関係を考慮すれば、２階の常微分方程式が１階の連立常微分方程式で表現できる\n",
    "\n",
    "$$\n",
    "\\begin{align*}\n",
    "\\left\\{\n",
    "    \\begin{array}{l}\n",
    "        \\large \\frac{d}{dt} \\normalsize v = - \\large \\frac{k}{m} \\normalsize u  \\\\\n",
    "        \\large \\frac{d}{dt} \\normalsize u= v\n",
    "     \\end{array}\n",
    "\\right.\n",
    "\\end{align*}\n",
    "$$\n",
    "\n",
    "変数x(=(v,u))でまとめ、xと時間tを引数として$\\large \\left[ \\frac{dv}{dt},\\frac{du}{dt}\\right]$を返す関数func_odeを定義する"
   ]
  },
  {
   "cell_type": "code",
   "execution_count": null,
   "metadata": {},
   "outputs": [],
   "source": []
  },
  {
   "cell_type": "markdown",
   "metadata": {},
   "source": [
    "次に、初期値x0と時間ti(0から8までを801分割したベクトル)を定義する。\n",
    "(変数tはsympyにて使っているので変数名はtiとすること)"
   ]
  },
  {
   "cell_type": "code",
   "execution_count": null,
   "metadata": {},
   "outputs": [],
   "source": []
  },
  {
   "cell_type": "markdown",
   "metadata": {},
   "source": [
    "初期値x0でtiに示す時間ステップでxを計算し、変位uをプロットする。"
   ]
  },
  {
   "cell_type": "code",
   "execution_count": null,
   "metadata": {},
   "outputs": [],
   "source": []
  },
  {
   "cell_type": "markdown",
   "metadata": {},
   "source": [
    "## 強制振動\n",
    "---\n",
    "m=1, k=4$\\pi^2$, 減衰係数c=$0.8\\pi$ (減衰比$\\zeta=0.2$)、外力F(t)の条件下で\n",
    "上記に示す[１質点系の強制振動](#anker1)の数値計算を行う\n",
    "\n",
    "$$\n",
    "\\begin{equation*}\n",
    "m \\frac{d^2}{dt^2}u(t) + c \\frac{d}{dt}u(t) + ku(t) = F(t)\n",
    "\\end{equation*}\n",
    "$$\n",
    "\n",
    "外力F(t)は下記とする。尚、sgnはシグナム関数(符号関数)である\n",
    "$$\n",
    "F(t) = \\mbox{sgn} \\hspace{1pt} sin(0.25\\pi (t-1.0)) +1.0\n",
    "$$\n",
    "\n",
    "シグナム関数は正の値の場合1,負の値の場合-1を取る関数で、外力Ftは次の通りプロットできる   \n",
    "時間は上で定義したtiを用いる"
   ]
  },
  {
   "cell_type": "code",
   "execution_count": null,
   "metadata": {},
   "outputs": [],
   "source": []
  },
  {
   "cell_type": "markdown",
   "metadata": {},
   "source": [
    "まずは、前項と同じように変数変換を考える\n",
    "\n",
    "$$\n",
    "\\frac{d}{dt}u := v\n",
    "$$\n",
    "\n",
    "この関係を考慮すれば、前項同様に２階の常微分方程式が１階の連立常微分方程式で表現できる\n",
    "\n",
    "$$\n",
    "\\begin{align*}\n",
    "\\left\\{\n",
    "    \\begin{array}{l}\n",
    "        \\large \\frac{d}{dt} \\normalsize v = F(t)- \\large \\frac{c}{m} \\normalsize v  - \\large \\frac{k}{m} \\normalsize u  \\\\\n",
    "        \\large \\frac{d}{dt} \\normalsize u= v\n",
    "     \\end{array}\n",
    "\\right.\n",
    "\\end{align*}\n",
    "$$\n",
    "\n",
    "変数x(=(v,u))でまとめ、xと時間tを引数として$\\large \\left[ \\frac{dv}{dt},\\frac{du}{dt}\\right]$を返す関数func_ode2を定義する"
   ]
  },
  {
   "cell_type": "code",
   "execution_count": null,
   "metadata": {},
   "outputs": [],
   "source": []
  },
  {
   "cell_type": "markdown",
   "metadata": {},
   "source": [
    "今回は外力の応答を見たいので、初期値は速度、変位ともに0,0とする。  \n",
    "時間は前項同様の変数ti(0から8までを801分割したベクトル)を再定義する。（前回定義しているなら不要）"
   ]
  },
  {
   "cell_type": "code",
   "execution_count": null,
   "metadata": {},
   "outputs": [],
   "source": []
  },
  {
   "cell_type": "markdown",
   "metadata": {},
   "source": [
    "初期値x0でtiに示す時間ステップでxを計算し、変位uをプロットする。"
   ]
  },
  {
   "cell_type": "code",
   "execution_count": null,
   "metadata": {},
   "outputs": [],
   "source": []
  },
  {
   "cell_type": "markdown",
   "metadata": {},
   "source": [
    "時刻1[s]より応答変位が生じている。約4[s]地点で準静的な力のつり合い状態となっていることがわかる。"
   ]
  },
  {
   "cell_type": "markdown",
   "metadata": {},
   "source": [
    "---\n",
    "<a rel=\"license\" href=\"http://creativecommons.org/licenses/by/4.0/\"><img align=\"right\" alt=\"Creative Commons License\" style=\"border-width:0\" src=\"https://i.creativecommons.org/l/by/4.0/88x31.png\" /></a><br /><br />\n",
    "<div align=\"right\"><span xmlns:dct=\"http://purl.org/dc/terms/\" property=\"dct:title\">python4engineer</span> by <a xmlns:cc=\"http://creativecommons.org/ns#\" href=\"https://github.com/TatsuyaKatayama/python4engineer\" property=\"cc:attributionName\" rel=\"cc:attributionURL\">TatsuyaKatayama</a> is licensed under a <a rel=\"license\" href=\"http://creativecommons.org/licenses/by/4.0/\">Creative Commons Attribution 4.0 International License</a>. </div>\n"
   ]
  }
 ],
 "metadata": {
  "kernelspec": {
   "display_name": "Python 3",
   "language": "python",
   "name": "python3"
  },
  "language_info": {
   "codemirror_mode": {
    "name": "ipython",
    "version": 3
   },
   "file_extension": ".py",
   "mimetype": "text/x-python",
   "name": "python",
   "nbconvert_exporter": "python",
   "pygments_lexer": "ipython3",
   "version": "3.5.4"
  }
 },
 "nbformat": 4,
 "nbformat_minor": 2
}
