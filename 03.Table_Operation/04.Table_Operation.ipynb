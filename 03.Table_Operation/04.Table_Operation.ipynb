{
 "cells": [
  {
   "cell_type": "markdown",
   "metadata": {},
   "source": [
    "# 表データの取り扱い\n",
    "\n",
    "## pandasのメリット\n",
    "* Excel形式のデータを読み込める\n",
    "* Excel形式に書き出せる\n",
    "* 表データの中身が見やすい\n",
    "* plotも手軽\n",
    "* 数値データ以外も取り扱える\n",
    "* データの検索・抽出・削除などデータの加工に有用\n",
    "\n",
    "\n",
    "純粋な工学計算だけに使うのであれば、なくても問題ない。  \n",
    "データの可視化が容易、Excelファイルの読み書きなど\n",
    "工学計算のみの使用でも有用な機能を紹介する\n",
    "\n",
    "## 準備\n",
    "1. matplotlibのバックエンドはinline\n",
    "2. pandasはpdという別名でインポートされうことが多い\n",
    "3. numpyのインポート\n",
    "4. 下記のx,y\n",
    "```python\n",
    "x = np.linspace(0,1.,101)\n",
    "y = np.sin(2.*np.pi*x)\n",
    "```"
   ]
  },
  {
   "cell_type": "code",
   "execution_count": null,
   "metadata": {},
   "outputs": [],
   "source": []
  },
  {
   "cell_type": "markdown",
   "metadata": {},
   "source": [
    "## DataFrame\n",
    "データを格納する表。\n",
    "第一引数に配列(x,yを列方向に結合)を渡す。\n",
    "各列名をcolumusの引数にリストとして渡す。\n",
    "\n",
    "```python\n",
    "df1 = pd.DataFrame(np.c_[x,y], columns=[\"time\",\"data\"])\n",
    "```\n",
    "\n",
    "このDataFrameインスタンスはplotメソッドを持ち、容易にプロット可能\n",
    "```python\n",
    "df1.plot(x=\"time\")\n",
    "```"
   ]
  },
  {
   "cell_type": "code",
   "execution_count": null,
   "metadata": {},
   "outputs": [],
   "source": []
  },
  {
   "cell_type": "markdown",
   "metadata": {},
   "source": [
    "plotメソッドの引数にグラフの体裁を整えるオプションが使用できる\n",
    "```python\n",
    "df1.plot(x=\"time\",grid=True,xlim=(0,1.),title=\"sin\",figsize=(6,6))\n",
    "```"
   ]
  },
  {
   "cell_type": "code",
   "execution_count": null,
   "metadata": {},
   "outputs": [],
   "source": []
  },
  {
   "cell_type": "markdown",
   "metadata": {},
   "source": [
    "表の中身はインスタンスを指定するとJupyterNotebookがいい感じのHTMLで表示してくれる"
   ]
  },
  {
   "cell_type": "code",
   "execution_count": null,
   "metadata": {},
   "outputs": [],
   "source": []
  },
  {
   "cell_type": "markdown",
   "metadata": {},
   "source": [
    "ただし長い。。。転置して表示するのがおおすすめ"
   ]
  },
  {
   "cell_type": "code",
   "execution_count": null,
   "metadata": {},
   "outputs": [],
   "source": []
  },
  {
   "cell_type": "markdown",
   "metadata": {},
   "source": [
    "データすべて見なくても概要だけでよい場合、インスタンスメソッドdescribeを使う"
   ]
  },
  {
   "cell_type": "code",
   "execution_count": null,
   "metadata": {},
   "outputs": [],
   "source": []
  },
  {
   "cell_type": "markdown",
   "metadata": {},
   "source": [
    "## Excelファイル形式の取り扱い\n",
    "初めにDataFrameの複製を行う。\n",
    "```python\n",
    "df2 = df1.copy()\n",
    "df2.data = df2.data +1\n",
    "```"
   ]
  },
  {
   "cell_type": "code",
   "execution_count": null,
   "metadata": {},
   "outputs": [],
   "source": []
  },
  {
   "cell_type": "markdown",
   "metadata": {},
   "source": [
    "Pythonを用いてデータ処理した結果をExcel形式のファイルとして保存する。  \n",
    "ExcelWriterインスタンスにデータを与え、書き込んでいる\n",
    "```python\n",
    "writer = pd.ExcelWriter('pandas.xlsx')\n",
    "df1.to_excel(writer,sheet_name='170317')\n",
    "df2.to_excel(writer,sheet_name='170318')\n",
    "writer.save()\n",
    "```\n"
   ]
  },
  {
   "cell_type": "code",
   "execution_count": null,
   "metadata": {},
   "outputs": [],
   "source": []
  },
  {
   "cell_type": "markdown",
   "metadata": {},
   "source": [
    "逆に、excelファイルから読み込む場合はread_excelメソッドを使う\n",
    "```python\n",
    "df3 = pd.read_excel(\"./pandas.xlsx\",sheet_name=\"170318\")\n",
    "```"
   ]
  },
  {
   "cell_type": "code",
   "execution_count": null,
   "metadata": {},
   "outputs": [],
   "source": []
  },
  {
   "cell_type": "code",
   "execution_count": null,
   "metadata": {},
   "outputs": [],
   "source": []
  },
  {
   "cell_type": "markdown",
   "metadata": {},
   "source": [
    "## CSVファイル形式の取り扱い\n",
    "csvファイルの読み込みはDataFrameインスタンスのto_csvメソッドを使い、  \n",
    "読み込みpd.read_csv関数を使う \n",
    "```python\n",
    "df2.to_csv(\"pandas.csv\")\n",
    "df4 = pd.read_csv(\"pandas.csv\",index_col=0)\n",
    "df4.T\n",
    "```"
   ]
  },
  {
   "cell_type": "code",
   "execution_count": null,
   "metadata": {},
   "outputs": [],
   "source": []
  },
  {
   "cell_type": "markdown",
   "metadata": {},
   "source": [
    "---\n",
    "\n",
    "<div align=\"right\">This Text by Katayama is licensed under <a harf=\"https://creativecommons.org/licenses/by/4.0/\">a Creative Commons Attribution 4.0 International License. </a>   </div>\n",
    "<img src=\"./by.png\" width=100pt align=\"right\">\n"
   ]
  }
 ],
 "metadata": {
  "kernelspec": {
   "display_name": "Python 3",
   "language": "python",
   "name": "python3"
  },
  "language_info": {
   "codemirror_mode": {
    "name": "ipython",
    "version": 3
   },
   "file_extension": ".py",
   "mimetype": "text/x-python",
   "name": "python",
   "nbconvert_exporter": "python",
   "pygments_lexer": "ipython3",
   "version": "3.5.4"
  }
 },
 "nbformat": 4,
 "nbformat_minor": 2
}
