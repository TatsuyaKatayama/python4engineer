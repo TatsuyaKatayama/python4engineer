{
 "cells": [
  {
   "cell_type": "markdown",
   "metadata": {},
   "source": [
    "# 行列の取り扱い\n",
    "\n",
    "## numpy\n",
    "\n",
    "* 数値計算用のライブラリ\n",
    "* ベクトル・行列の扱いが便利\n",
    "* 高速な計算速度\n",
    "\n",
    "## numpyのインポート\n",
    "numpyモジュールをnpという名前でインポートすることが多い\n"
   ]
  },
  {
   "cell_type": "code",
   "execution_count": 1,
   "metadata": {},
   "outputs": [],
   "source": [
    "import numpy as np"
   ]
  },
  {
   "cell_type": "markdown",
   "metadata": {},
   "source": [
    "---\n",
    "## ベクトル・行列の作成方法"
   ]
  },
  {
   "cell_type": "markdown",
   "metadata": {},
   "source": [
    "### Array\n",
    "np.arrayという関数に引数にリスト・タプルなどを与え、ベクトルを作成。  \n",
    "\\(1, 2, 3, 4 \\)という1次元ベクトルxを作成する  \n",
    "\n",
    "$$\n",
    "x=\n",
    "\\begin{pmatrix}\n",
    "0 & 1 & 2 & 3\n",
    "\\end{pmatrix}\n",
    "$$"
   ]
  },
  {
   "cell_type": "code",
   "execution_count": 2,
   "metadata": {},
   "outputs": [
    {
     "data": {
      "text/plain": [
       "array([1, 2, 3, 4])"
      ]
     },
     "execution_count": 2,
     "metadata": {},
     "output_type": "execute_result"
    }
   ],
   "source": [
    "x = np.array([1,2,3,4])\n",
    "x"
   ]
  },
  {
   "cell_type": "markdown",
   "metadata": {},
   "source": [
    "ここで、ベクトルを構成する各値の型はint型であることを注意する  \n",
    "値の型はメンバ関数dtypeで確認できる"
   ]
  },
  {
   "cell_type": "code",
   "execution_count": 3,
   "metadata": {},
   "outputs": [
    {
     "data": {
      "text/plain": [
       "dtype('int32')"
      ]
     },
     "execution_count": 3,
     "metadata": {},
     "output_type": "execute_result"
    }
   ],
   "source": [
    "x.dtype"
   ]
  },
  {
   "cell_type": "markdown",
   "metadata": {},
   "source": [
    "dtypeを変更したい場合は、メンバ関数astypeを使う。\n",
    "例えばflot型に変更する場合は下記のようにする。"
   ]
  },
  {
   "cell_type": "code",
   "execution_count": 4,
   "metadata": {},
   "outputs": [
    {
     "data": {
      "text/plain": [
       "dtype('float64')"
      ]
     },
     "execution_count": 4,
     "metadata": {},
     "output_type": "execute_result"
    }
   ],
   "source": [
    "x = x.astype(float)\n",
    "x.dtype"
   ]
  },
  {
   "cell_type": "markdown",
   "metadata": {},
   "source": [
    "引数に二次元配列（リストのリスト）を与えれば行列ないしテンソルを定義できる。  \n",
    "また、引数dtypeに要素の型を指定すると定義時に指定の型で行列が作成される。  \n",
    "例えば、次のようなベクトルを作成する.\n",
    "\n",
    "$$\n",
    "{\\bf A}=\n",
    "\\begin{bmatrix}\n",
    "0 & 1 & 2 & 3 \\\\\n",
    "4 & 5 & 6 & 7 \\\\\n",
    "8 & 9 & 10 & 11 \\\\\n",
    "12 & 13 & 14 & 15\n",
    " \\end{bmatrix}\n",
    "$$"
   ]
  },
  {
   "cell_type": "code",
   "execution_count": 5,
   "metadata": {},
   "outputs": [
    {
     "data": {
      "text/plain": [
       "array([[ 0.,  1.,  2.,  3.],\n",
       "       [ 4.,  5.,  6.,  7.],\n",
       "       [ 8.,  9., 10., 11.],\n",
       "       [12., 13., 14., 15.]])"
      ]
     },
     "execution_count": 5,
     "metadata": {},
     "output_type": "execute_result"
    }
   ],
   "source": [
    "A = np.array([[0,1,2,3],[4,5,6,7],[8,9,10,11],[12,13,14,15]],dtype=float)\n",
    "A"
   ]
  },
  {
   "cell_type": "markdown",
   "metadata": {},
   "source": [
    "各要素へのアクセスがリストと異なる。  \n",
    "A\\[i,j,…\\]でi行目j列目…の要素にアクセスできる。スライスも使用可能である  \n",
    "例えば行列Aの2行目以降最終行前までで最終列以外を取り出すと"
   ]
  },
  {
   "cell_type": "code",
   "execution_count": 6,
   "metadata": {},
   "outputs": [
    {
     "data": {
      "text/plain": [
       "array([[ 4.,  5.,  6.],\n",
       "       [ 8.,  9., 10.]])"
      ]
     },
     "execution_count": 6,
     "metadata": {},
     "output_type": "execute_result"
    }
   ],
   "source": [
    "A[1:-1,:-1]"
   ]
  },
  {
   "cell_type": "markdown",
   "metadata": {},
   "source": [
    "### csvファイルへの読み書き\n",
    "#### 書き込み\n",
    "行列やベクトルであれば、np.savetxt(filePath, numpy.array, delimiter=\",\")関数を使ってcsvファイルに出力できる.  \n",
    "行列AをmatrixA.csvとして保存する場合、下記のとおりである"
   ]
  },
  {
   "cell_type": "code",
   "execution_count": 7,
   "metadata": {},
   "outputs": [],
   "source": [
    "np.savetxt(\".\\matrixA.csv\" , A, delimiter=\",\")"
   ]
  },
  {
   "cell_type": "markdown",
   "metadata": {},
   "source": [
    "#### 読み込み\n",
    "読み込む場合は、np.loadtxt(filePath,delimiter=\",\")を使う  \n",
    "上で保存したmatrixAをA_csvとして読み込む"
   ]
  },
  {
   "cell_type": "code",
   "execution_count": 8,
   "metadata": {},
   "outputs": [
    {
     "data": {
      "text/plain": [
       "array([[ 0.,  1.,  2.,  3.],\n",
       "       [ 4.,  5.,  6.,  7.],\n",
       "       [ 8.,  9., 10., 11.],\n",
       "       [12., 13., 14., 15.]])"
      ]
     },
     "execution_count": 8,
     "metadata": {},
     "output_type": "execute_result"
    }
   ],
   "source": [
    "A_csv = np.loadtxt(\"./matrixA.csv\", delimiter=\",\")\n",
    "A_csv"
   ]
  },
  {
   "cell_type": "markdown",
   "metadata": {},
   "source": [
    "### その他の配列作成方法\n",
    "iからjまでをn個に分割したベクトルを作成する場合、\n",
    "np.linspace(i,j,n)で作成できる  \n",
    "例えば、0.0～1.0までを11個に分割する場合は下記のようになる  \n",
    "$$\n",
    "\\begin{pmatrix}\n",
    "0.0 & 0.1 & 0.2 & 0.4  & 0.5  & 0.6  & 0.7  & 0.8  & 0.9 & 1.0 \n",
    "\\end{pmatrix}\n",
    "$$"
   ]
  },
  {
   "cell_type": "code",
   "execution_count": 9,
   "metadata": {},
   "outputs": [
    {
     "data": {
      "text/plain": [
       "array([0. , 0.1, 0.2, 0.3, 0.4, 0.5, 0.6, 0.7, 0.8, 0.9, 1. ])"
      ]
     },
     "execution_count": 9,
     "metadata": {},
     "output_type": "execute_result"
    }
   ],
   "source": [
    "np.linspace(0.0,1.0,11)"
   ]
  },
  {
   "cell_type": "markdown",
   "metadata": {},
   "source": [
    "n個の0で構成されるベクトルはnp.zeros(n)、n個の1で構成されるベクトルはnp.ones(n)で作成できる  \n",
    "よって、10個の0で構成されるベクトル及び10個の1で構成される次のようになる  \n",
    "$$\n",
    "\\begin{pmatrix}\n",
    "0.0 & 0.0 & 0.0 & 0.0 & 0.0 & 0.0 & 0.0 & 0.0 & 0.0 & 0.0\n",
    "\\end{pmatrix}\n",
    "$$\n",
    "$$\n",
    "\\begin{pmatrix}\n",
    "1.0 & 1.0 & 1.0 & 1.0 & 1.0 & 1.0 & 1.0 & 1.0 & 1.0 & 1.0\n",
    "\\end{pmatrix}\n",
    "$$"
   ]
  },
  {
   "cell_type": "code",
   "execution_count": 10,
   "metadata": {},
   "outputs": [
    {
     "data": {
      "text/plain": [
       "(array([0., 0., 0., 0., 0., 0., 0., 0., 0., 0.]),\n",
       " array([1., 1., 1., 1., 1., 1., 1., 1., 1., 1.]))"
      ]
     },
     "execution_count": 10,
     "metadata": {},
     "output_type": "execute_result"
    }
   ],
   "source": [
    "np.zeros(10),np.ones(10)"
   ]
  },
  {
   "cell_type": "markdown",
   "metadata": {},
   "source": [
    "同様に単位ベクトルはnp.eye(n)で作成できる  \n",
    "\n",
    "\n",
    "$$\n",
    "{\\bf I}\n",
    "=\n",
    "\\begin{bmatrix}\n",
    "1 & 0 & 0 & 0 \\\\\n",
    "0 & 1 & 0 & 0 \\\\\n",
    "0 & 0 & 1 & 0 \\\\\n",
    "0 & 0 & 0 & 1\n",
    "\\end{bmatrix}\n",
    "$$\n",
    "\n",
    "\n",
    "上記、単位行列Iは次のとおりである"
   ]
  },
  {
   "cell_type": "code",
   "execution_count": 11,
   "metadata": {},
   "outputs": [
    {
     "data": {
      "text/plain": [
       "array([[1., 0., 0., 0.],\n",
       "       [0., 1., 0., 0.],\n",
       "       [0., 0., 1., 0.],\n",
       "       [0., 0., 0., 1.]])"
      ]
     },
     "execution_count": 11,
     "metadata": {},
     "output_type": "execute_result"
    }
   ],
   "source": [
    "I = np.eye(4)\n",
    "I"
   ]
  },
  {
   "cell_type": "markdown",
   "metadata": {},
   "source": [
    "---\n",
    "\n",
    "## 要素ごとの四則演算\n",
    "上で作成したベクトルxの各要素に2を足すと"
   ]
  },
  {
   "cell_type": "code",
   "execution_count": 12,
   "metadata": {},
   "outputs": [
    {
     "data": {
      "text/plain": [
       "array([3., 4., 5., 6.])"
      ]
     },
     "execution_count": 12,
     "metadata": {},
     "output_type": "execute_result"
    }
   ],
   "source": [
    "x + 2"
   ]
  },
  {
   "cell_type": "markdown",
   "metadata": {},
   "source": [
    "各要素を2倍したベクトルは"
   ]
  },
  {
   "cell_type": "code",
   "execution_count": 13,
   "metadata": {},
   "outputs": [
    {
     "data": {
      "text/plain": [
       "array([2., 4., 6., 8.])"
      ]
     },
     "execution_count": 13,
     "metadata": {},
     "output_type": "execute_result"
    }
   ],
   "source": [
    "x * 2"
   ]
  },
  {
   "cell_type": "markdown",
   "metadata": {},
   "source": [
    "各要素を二乗したベクトルは"
   ]
  },
  {
   "cell_type": "code",
   "execution_count": 14,
   "metadata": {},
   "outputs": [
    {
     "data": {
      "text/plain": [
       "array([ 1.,  4.,  9., 16.])"
      ]
     },
     "execution_count": 14,
     "metadata": {},
     "output_type": "execute_result"
    }
   ],
   "source": [
    "x ** 2."
   ]
  },
  {
   "cell_type": "markdown",
   "metadata": {},
   "source": [
    "要素同士の掛け算をする  \n",
    "例えば、Aとxの要素ごとの積は、xが行ベクトルであることを考慮すると次のようになる"
   ]
  },
  {
   "cell_type": "code",
   "execution_count": 15,
   "metadata": {},
   "outputs": [
    {
     "data": {
      "text/plain": [
       "array([[ 0.,  2.,  6., 12.],\n",
       "       [ 4., 10., 18., 28.],\n",
       "       [ 8., 18., 30., 44.],\n",
       "       [12., 26., 42., 60.]])"
      ]
     },
     "execution_count": 15,
     "metadata": {},
     "output_type": "execute_result"
    }
   ],
   "source": [
    "A * x"
   ]
  },
  {
   "cell_type": "markdown",
   "metadata": {},
   "source": [
    "行列やベクトルを変形させる場合、メンバ関数reshape(i,j,…)を使う。\n",
    "i,jは行数、列数など各次元の要素数であり、成り行きで決まってほしいときは-1を使う。\n",
    "例えばxを列ベクトルxtに変換する場合、次の通りである"
   ]
  },
  {
   "cell_type": "code",
   "execution_count": 16,
   "metadata": {},
   "outputs": [
    {
     "data": {
      "text/plain": [
       "array([[1.],\n",
       "       [2.],\n",
       "       [3.],\n",
       "       [4.]])"
      ]
     },
     "execution_count": 16,
     "metadata": {},
     "output_type": "execute_result"
    }
   ],
   "source": [
    "xt = x.reshape(-1,1)\n",
    "xt"
   ]
  },
  {
   "cell_type": "markdown",
   "metadata": {},
   "source": [
    "Aとxtの各要素の積は次のようになる"
   ]
  },
  {
   "cell_type": "code",
   "execution_count": 17,
   "metadata": {},
   "outputs": [
    {
     "data": {
      "text/plain": [
       "array([[ 0.,  1.,  2.,  3.],\n",
       "       [ 8., 10., 12., 14.],\n",
       "       [24., 27., 30., 33.],\n",
       "       [48., 52., 56., 60.]])"
      ]
     },
     "execution_count": 17,
     "metadata": {},
     "output_type": "execute_result"
    }
   ],
   "source": [
    "A * xt"
   ]
  },
  {
   "cell_type": "markdown",
   "metadata": {},
   "source": [
    "---\n",
    "## その他よく使うモジュール関数\n",
    "### 内積"
   ]
  },
  {
   "cell_type": "code",
   "execution_count": 18,
   "metadata": {},
   "outputs": [
    {
     "data": {
      "text/plain": [
       "array([ 20.,  60., 100., 140.])"
      ]
     },
     "execution_count": 18,
     "metadata": {},
     "output_type": "execute_result"
    }
   ],
   "source": [
    "np.dot(A, x)"
   ]
  },
  {
   "cell_type": "markdown",
   "metadata": {},
   "source": [
    "### 合計, 平均, 最大, 最小\n",
    "行列Aに対して合計, 平均, 最大, 最小を計算する"
   ]
  },
  {
   "cell_type": "code",
   "execution_count": 19,
   "metadata": {},
   "outputs": [
    {
     "data": {
      "text/plain": [
       "(120.0, 7.5, 15.0, 0.0)"
      ]
     },
     "execution_count": 19,
     "metadata": {},
     "output_type": "execute_result"
    }
   ],
   "source": [
    "np.sum(A), np.mean(A), np.max(A), np.min(A)"
   ]
  },
  {
   "cell_type": "markdown",
   "metadata": {},
   "source": [
    "それぞれ第２引数に処理したい軸を指定すると、指定した軸の外側に計算値が計算される  \n",
    "例えば、各列ごとの処理の結果は行ベクトルとなる。\n",
    "その行ベクトルを計算したい場合は引数0を取る"
   ]
  },
  {
   "cell_type": "code",
   "execution_count": 20,
   "metadata": {},
   "outputs": [
    {
     "data": {
      "text/plain": [
       "(array([24., 28., 32., 36.]),\n",
       " array([6., 7., 8., 9.]),\n",
       " array([12., 13., 14., 15.]),\n",
       " array([0., 1., 2., 3.]))"
      ]
     },
     "execution_count": 20,
     "metadata": {},
     "output_type": "execute_result"
    }
   ],
   "source": [
    "np.sum(A,0), np.mean(A,0), np.max(A,0), np.min(A,0)"
   ]
  },
  {
   "cell_type": "markdown",
   "metadata": {},
   "source": [
    "同様の処理をメンバ関数でも実施できる"
   ]
  },
  {
   "cell_type": "code",
   "execution_count": 21,
   "metadata": {},
   "outputs": [
    {
     "data": {
      "text/plain": [
       "(array([24., 28., 32., 36.]),\n",
       " array([6., 7., 8., 9.]),\n",
       " array([12., 13., 14., 15.]),\n",
       " array([0., 1., 2., 3.]))"
      ]
     },
     "execution_count": 21,
     "metadata": {},
     "output_type": "execute_result"
    }
   ],
   "source": [
    "A.sum(0),A.mean(0),A.max(0),A.min(0)"
   ]
  },
  {
   "cell_type": "markdown",
   "metadata": {},
   "source": [
    "#### 転置行列\n",
    "メンバプロパティであるA.Tにより行列の転置が可能"
   ]
  },
  {
   "cell_type": "code",
   "execution_count": 22,
   "metadata": {},
   "outputs": [
    {
     "data": {
      "text/plain": [
       "array([[ 0.,  4.,  8., 12.],\n",
       "       [ 1.,  5.,  9., 13.],\n",
       "       [ 2.,  6., 10., 14.],\n",
       "       [ 3.,  7., 11., 15.]])"
      ]
     },
     "execution_count": 22,
     "metadata": {},
     "output_type": "execute_result"
    }
   ],
   "source": [
    "A.T"
   ]
  },
  {
   "cell_type": "markdown",
   "metadata": {},
   "source": [
    "尚、1次元ベクトルの転置は実施できないので、前述したreshape関数を使う"
   ]
  },
  {
   "cell_type": "markdown",
   "metadata": {},
   "source": [
    "#### 数式関数あれこれ\n",
    "* np.sqrt\n",
    "* np.log10, np.log2, np.log\n",
    "* np.sin, np.cos, np.tan\n",
    "* np.asin, np.acos, np.atan\n",
    "* np.rad2deg, np.deg2rad"
   ]
  },
  {
   "cell_type": "code",
   "execution_count": 23,
   "metadata": {},
   "outputs": [
    {
     "data": {
      "text/plain": [
       "array([1.        , 1.41421356, 1.73205081, 2.        ])"
      ]
     },
     "execution_count": 23,
     "metadata": {},
     "output_type": "execute_result"
    }
   ],
   "source": [
    "np.sqrt(x)"
   ]
  },
  {
   "cell_type": "code",
   "execution_count": 24,
   "metadata": {},
   "outputs": [
    {
     "data": {
      "text/plain": [
       "array([0.        , 0.30103   , 0.47712125, 0.60205999])"
      ]
     },
     "execution_count": 24,
     "metadata": {},
     "output_type": "execute_result"
    }
   ],
   "source": [
    "np.log10(x)"
   ]
  },
  {
   "cell_type": "code",
   "execution_count": 25,
   "metadata": {},
   "outputs": [
    {
     "data": {
      "text/plain": [
       "array([ 0.84147098,  0.90929743,  0.14112001, -0.7568025 ])"
      ]
     },
     "execution_count": 25,
     "metadata": {},
     "output_type": "execute_result"
    }
   ],
   "source": [
    "np.sin(x)"
   ]
  },
  {
   "cell_type": "code",
   "execution_count": 26,
   "metadata": {},
   "outputs": [
    {
     "data": {
      "text/plain": [
       "array([0.25268026, 0.52359878, 0.84806208, 1.57079633])"
      ]
     },
     "execution_count": 26,
     "metadata": {},
     "output_type": "execute_result"
    }
   ],
   "source": [
    "np.arcsin(x/x.max())"
   ]
  },
  {
   "cell_type": "code",
   "execution_count": 27,
   "metadata": {},
   "outputs": [
    {
     "data": {
      "text/plain": [
       "180.0"
      ]
     },
     "execution_count": 27,
     "metadata": {},
     "output_type": "execute_result"
    }
   ],
   "source": [
    "np.rad2deg(np.array(np.pi))"
   ]
  },
  {
   "cell_type": "markdown",
   "metadata": {},
   "source": [
    "---\n",
    "\n",
    "## 連立方程式\n",
    "\n",
    "下記の連立方程式を解く。\n",
    "\n",
    "$$\n",
    " (A + I)  \\cdot x = b \n",
    "$$\n",
    "\n",
    "### 答えの準備\n",
    "$(A + I) \\cdot x$を計算しbを計算する"
   ]
  },
  {
   "cell_type": "code",
   "execution_count": 28,
   "metadata": {},
   "outputs": [
    {
     "data": {
      "text/plain": [
       "array([ 21.,  62., 103., 144.])"
      ]
     },
     "execution_count": 28,
     "metadata": {},
     "output_type": "execute_result"
    }
   ],
   "source": [
    "b = np.dot((A+I), x)\n",
    "b"
   ]
  },
  {
   "cell_type": "markdown",
   "metadata": {},
   "source": [
    "### solve\n",
    "\n",
    "$(A + I) \\cdot x_{unkown} = b$について、$x_{unkown}$を未知数として連立方程式を解く"
   ]
  },
  {
   "cell_type": "code",
   "execution_count": 29,
   "metadata": {},
   "outputs": [
    {
     "data": {
      "text/plain": [
       "array([1., 2., 3., 4.])"
      ]
     },
     "execution_count": 29,
     "metadata": {},
     "output_type": "execute_result"
    }
   ],
   "source": [
    "np.linalg.solve((A+I),b)"
   ]
  },
  {
   "cell_type": "markdown",
   "metadata": {},
   "source": [
    "xが計算できている"
   ]
  },
  {
   "cell_type": "markdown",
   "metadata": {},
   "source": [
    "###  直列バネの静的つり合い\n",
    "\n",
    "下記のような１次元の直列バネの先端に荷重1N作用したときの、各節点の変位を求めよ。\n",
    "尚、$k_0, k_1, k_2, k_3$はそれぞれ、1,2,3,4 \\[N/mm\\]とする\n",
    "\n",
    "\n",
    "<img src=\"./spring01.png\" width=60%>\n"
   ]
  },
  {
   "cell_type": "markdown",
   "metadata": {},
   "source": [
    "まず、境界条件を考慮せずに、下図の状態を考える。\n",
    "\n",
    "<img src=\"./spring02.png\" width=55%>\n",
    "\n",
    "各節点作用する力のつり合いは以下のように表される。\n",
    "\n",
    "$$\n",
    "\\left\\{\n",
    "\\begin{align*}\n",
    "f_0 + k_0 (u_1 - u_0) \\quad \\qquad \\qquad = 0 \\\\\n",
    "f_1 +k_1 (u_2 - u_1) - k_0 ( u_1 -u_0) = 0 \\\\\n",
    "f_2 + k_2 (u_3 - u_2) - k_1 ( u_2 -u_1) = 0 \\\\\n",
    "f_3 + k_3 (u_4 - u_3) - k_2 ( u_3 -u_2) = 0 \\\\\n",
    "f_4\\quad \\qquad \\qquad - k_3 ( u_4 -u_3) = 0\n",
    "\\end{align*}\n",
    "\\right.\n",
    "$$\n",
    "\n",
    "これを、$Ku = f$の形に変形すると\n",
    "\n",
    "$$\n",
    "\\begin{bmatrix}\n",
    "k_0 & - k_0 & 0 & 0 & 0 \\\\\n",
    "-k_0 &k_0 + k_1 & - k_1 & 0 & 0 \\\\\n",
    "0 & - k_1 & k_1 + k_2 & -k_2 & 0 \\\\\n",
    "0 & 0 & -k_2 & k_2 + k_3 & -k_3 \\\\\n",
    "0 & 0 & 0 & -k_3 & k_3 \n",
    "\\end{bmatrix}\n",
    "\\begin{pmatrix}\n",
    "u_0 \\\\ u_1 \\\\ u_2 \\\\u_3 \\\\ u_4\n",
    "\\end{pmatrix}\n",
    "=\n",
    "\\begin{pmatrix}\n",
    "f_0 \\\\ f_1 \\\\ f_2 \\\\f_3 \\\\ f_4\n",
    "\\end{pmatrix}\n",
    "$$\n",
    "\n",
    "\n"
   ]
  },
  {
   "cell_type": "markdown",
   "metadata": {},
   "source": [
    "#### 剛性マトリクス\n",
    "$k_0, k_1, k_2, k_3$はそれぞれ、1,2,3,4 \\[N/mm\\]とし、\n",
    "行列kをnumpyのarrayで定義する"
   ]
  },
  {
   "cell_type": "code",
   "execution_count": 30,
   "metadata": {},
   "outputs": [
    {
     "data": {
      "text/plain": [
       "array([[ 1., -1.,  0.,  0.,  0.],\n",
       "       [-1.,  3., -2.,  0.,  0.],\n",
       "       [ 0., -2.,  5., -3.,  0.],\n",
       "       [ 0.,  0., -3.,  7., -4.],\n",
       "       [ 0.,  0.,  0., -4.,  4.]])"
      ]
     },
     "execution_count": 30,
     "metadata": {},
     "output_type": "execute_result"
    }
   ],
   "source": [
    "k = np.array(\n",
    "    [\n",
    "        [ 1., -1.,   0,   0,   0],\n",
    "        [-1.,  3., -2.,   0,   0],\n",
    "        [  0, -2.,  5., -3.,   0],\n",
    "        [  0,  0., -3.,  7., -4.],\n",
    "        [  0,  0.,  0., -4.,  4.]\n",
    "    ]\n",
    ")\n",
    "k"
   ]
  },
  {
   "cell_type": "markdown",
   "metadata": {},
   "source": [
    "#### 境界条件の考慮\n",
    "境界条件を適用する。\n",
    "$u_0=0$であることを考慮すれば、kの１行目、１列目は計算不要となる。\n",
    "行列kから１行１列目を除いたkbはスライスを用いると以下の通りである"
   ]
  },
  {
   "cell_type": "code",
   "execution_count": 31,
   "metadata": {},
   "outputs": [
    {
     "data": {
      "text/plain": [
       "array([[ 3., -2.,  0.,  0.],\n",
       "       [-2.,  5., -3.,  0.],\n",
       "       [ 0., -3.,  7., -4.],\n",
       "       [ 0.,  0., -4.,  4.]])"
      ]
     },
     "execution_count": 31,
     "metadata": {},
     "output_type": "execute_result"
    }
   ],
   "source": [
    "kb=k[1:,1:]\n",
    "kb"
   ]
  },
  {
   "cell_type": "markdown",
   "metadata": {},
   "source": [
    "$f_1 = 0,\\quad f_2=0,\\quad f_3=0,\\quad f_4=1.$であるので\n",
    "外力ベクトルfは次のようになる"
   ]
  },
  {
   "cell_type": "code",
   "execution_count": 32,
   "metadata": {},
   "outputs": [
    {
     "data": {
      "text/plain": [
       "array([0., 0., 0., 1.])"
      ]
     },
     "execution_count": 32,
     "metadata": {},
     "output_type": "execute_result"
    }
   ],
   "source": [
    "f = np.array([0,0,0,1.])\n",
    "f"
   ]
  },
  {
   "cell_type": "markdown",
   "metadata": {},
   "source": [
    "#### 連立方程式を解く\n",
    "よって連立方程式を解き、$u_1,\\quad u_2,\\quad u_3,\\quad u_4$を計算すると"
   ]
  },
  {
   "cell_type": "code",
   "execution_count": 33,
   "metadata": {},
   "outputs": [
    {
     "data": {
      "text/plain": [
       "array([1.        , 1.5       , 1.83333333, 2.08333333])"
      ]
     },
     "execution_count": 33,
     "metadata": {},
     "output_type": "execute_result"
    }
   ],
   "source": [
    "u1_4 = np.linalg.solve(kb,f)\n",
    "u1_4"
   ]
  },
  {
   "cell_type": "markdown",
   "metadata": {},
   "source": [
    "#### 直列バネの変位量（検算）\n",
    "合成バネとして考えたときk_allは下記の通りである。\n",
    "$$\n",
    "\\frac{1}{k_{all}} = \\frac{1}{k_{0}}+\\frac{1}{k_{1}}+\\frac{1}{k_{2}}+\\frac{1}{k_{3}} \\\\\n",
    "$$\n",
    "\n",
    "この場合、端点$u_4$は下記のようにあらわさるので\n",
    "\n",
    "$$\n",
    "u_4 = \\frac{f_4}{k_{all}}\n",
    "$$\n",
    "\n",
    "上の２つの式より\n",
    "$$\n",
    "u_4 = f_4 \\cdot \\left( \\frac{1}{k_{0}}+\\frac{1}{k_{1}}+\\frac{1}{k_{2}}+\\frac{1}{k_{3}} \\right)\n",
    "$$\n",
    "\n",
    "具体的に計算すると、連立方程式の解と等しくなる"
   ]
  },
  {
   "cell_type": "code",
   "execution_count": 34,
   "metadata": {},
   "outputs": [
    {
     "data": {
      "text/plain": [
       "2.083333333333333"
      ]
     },
     "execution_count": 34,
     "metadata": {},
     "output_type": "execute_result"
    }
   ],
   "source": [
    "1.*( 1./1. + 1./2. + 1./3. + 1/4.)"
   ]
  },
  {
   "cell_type": "markdown",
   "metadata": {},
   "source": [
    "\n",
    "#### 固定端反力の計算\n",
    "固定端の反力$f_0$は"
   ]
  },
  {
   "cell_type": "code",
   "execution_count": 35,
   "metadata": {},
   "outputs": [
    {
     "data": {
      "text/plain": [
       "-0.999999999999999"
      ]
     },
     "execution_count": 35,
     "metadata": {},
     "output_type": "execute_result"
    }
   ],
   "source": [
    "f_rec = np.dot(k[:,1:] , u1_4)\n",
    "f_rec[0]"
   ]
  },
  {
   "cell_type": "markdown",
   "metadata": {},
   "source": [
    "おおよそ、-1.0であり静的なつり合いが計算できている"
   ]
  },
  {
   "cell_type": "markdown",
   "metadata": {},
   "source": [
    "---\n",
    "<a rel=\"license\" href=\"http://creativecommons.org/licenses/by/4.0/\"><img align=\"right\" alt=\"Creative Commons License\" style=\"border-width:0\" src=\"https://i.creativecommons.org/l/by/4.0/88x31.png\" /></a><br /><br />\n",
    "<div align=\"right\"><span xmlns:dct=\"http://purl.org/dc/terms/\" property=\"dct:title\">python4engineer</span> by <a xmlns:cc=\"http://creativecommons.org/ns#\" href=\"https://github.com/TatsuyaKatayama/python4engineer\" property=\"cc:attributionName\" rel=\"cc:attributionURL\">TatsuyaKatayama</a> is licensed under a <a rel=\"license\" href=\"http://creativecommons.org/licenses/by/4.0/\">Creative Commons Attribution 4.0 International License</a>. </div>\n"
   ]
  }
 ],
 "metadata": {
  "kernelspec": {
   "display_name": "Python 3",
   "language": "python",
   "name": "python3"
  },
  "language_info": {
   "codemirror_mode": {
    "name": "ipython",
    "version": 3
   },
   "file_extension": ".py",
   "mimetype": "text/x-python",
   "name": "python",
   "nbconvert_exporter": "python",
   "pygments_lexer": "ipython3",
   "version": "3.5.4"
  }
 },
 "nbformat": 4,
 "nbformat_minor": 2
}
