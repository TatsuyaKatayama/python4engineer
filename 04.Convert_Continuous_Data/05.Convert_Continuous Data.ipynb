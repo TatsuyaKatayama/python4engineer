{
 "cells": [
  {
   "cell_type": "markdown",
   "metadata": {},
   "source": [
    "# 連続データのFFT処理\n",
    "\n",
    "時系列データのFFT処理を通じて、numpy,matplotlib,pandasの使い方を復習する。  \n",
    "FFT処理の手順は下記の通りである  \n",
    "\n",
    "1. DC成分の除去\n",
    "2. ローパスフィルタ処理\n",
    "3. 窓関数\n",
    "4. FFT\n",
    "\n",
    "## 準備\n",
    "\n",
    "1. matplotlibのバックエンドをinlineに設定\n",
    "2. matplotlib.pyplotのインポート\n",
    "3. numpyのインポート\n",
    "4. scipyからsignalモジュールをインポート\n",
    "5. pandasのインポート"
   ]
  },
  {
   "cell_type": "code",
   "execution_count": null,
   "metadata": {},
   "outputs": [],
   "source": []
  },
  {
   "cell_type": "markdown",
   "metadata": {},
   "source": [
    "## DC成分の除去\n",
    "sensor_data.csvをpandasのDataFrameとして読み込む  \n",
    "データ概要(describe)を確認する"
   ]
  },
  {
   "cell_type": "code",
   "execution_count": null,
   "metadata": {},
   "outputs": [],
   "source": []
  },
  {
   "cell_type": "markdown",
   "metadata": {},
   "source": [
    "channel_0の平均値が0となるようにデータを加工する  \n",
    "加工結果をグラフ化する"
   ]
  },
  {
   "cell_type": "code",
   "execution_count": null,
   "metadata": {},
   "outputs": [],
   "source": []
  },
  {
   "cell_type": "markdown",
   "metadata": {},
   "source": [
    "## ローパスフィルタの設計\n",
    "サンプリング間隔dtを抽出し、ナイキスト周波数$f_n$,カットオフ周波数$f_c$を決定する。\n",
    "ただし、fn,fcは下記の通りとする\n",
    "\n",
    "$$\n",
    "\\begin{align*}\n",
    "f_n & = \\frac{1.0}{2 \\cdot dt} \\\\\n",
    "f_c & = 0.2 * f_n\n",
    "\\end{align*}\n",
    "$$"
   ]
  },
  {
   "cell_type": "code",
   "execution_count": null,
   "metadata": {},
   "outputs": [],
   "source": []
  },
  {
   "cell_type": "markdown",
   "metadata": {},
   "source": [
    "今回カットオフ周波数の-10\\[Hz\\]を通過周波数$f_{pass}$、+100\\[Hz\\]を遮断周波数$f_{stop}$とする"
   ]
  },
  {
   "cell_type": "code",
   "execution_count": null,
   "metadata": {},
   "outputs": [],
   "source": []
  },
  {
   "cell_type": "markdown",
   "metadata": {},
   "source": [
    "下記の通りナイキスト周波数で無次元化した通過周波数$W_{pass}$、遮断周波数$w_{stop}$を定義する  \n",
    "合わせて、帯域内（$f_{pass}$から$f_c$）の減衰量$R_{pass}$\\[dB\\]及び、減衰域（$f_c$ から$f_{stop}$）の減衰量$R_{stop}$\\[dB\\]は下記の通り定義する\n",
    "\n",
    "$$\n",
    "\\begin{align*}\n",
    "W_{pass} & = \\frac{f_{pass}}{f_n} \\\\\n",
    "W_{stop} & = \\frac{f_{stop}}{f_n} \\\\\n",
    "R_{pass} & = 1 \\quad[dB]\\\\\n",
    "R_{stop} & = 30 \\quad[dB]\n",
    "\\end{align*}\n",
    "$$"
   ]
  },
  {
   "cell_type": "code",
   "execution_count": null,
   "metadata": {},
   "outputs": [],
   "source": []
  },
  {
   "cell_type": "markdown",
   "metadata": {},
   "source": [
    "signale.buttordを用いて、無次元化カットオフ周波数$W_n$及び、必要なフィルタ最低次数$N$を計算する  \n",
    "```python\n",
    "N, Wn = signal.buttord(Wpass, Wstop, Rpass, Rstop)\n",
    "```\n",
    "\n",
    "次に、ローパスのIIRフィルタを表す多項式の分子b,分母aを計算する  \n",
    "```python\n",
    "b, a = signal.butter(N, Wn, \"low\")\n",
    "```\n",
    "\n",
    "さらにa,bであらわされるフィルタをchannel_0のデータに適用する\n",
    "```python\n",
    "y_low = signal.filtfilt(b, a, df[df.columns[1]])\n",
    "```\n"
   ]
  },
  {
   "cell_type": "code",
   "execution_count": null,
   "metadata": {},
   "outputs": [],
   "source": []
  },
  {
   "cell_type": "markdown",
   "metadata": {},
   "source": [
    "元のデータ及びローパスをかけた後のデータを重ねてプロットする"
   ]
  },
  {
   "cell_type": "code",
   "execution_count": null,
   "metadata": {},
   "outputs": [],
   "source": []
  },
  {
   "cell_type": "markdown",
   "metadata": {},
   "source": [
    "尚、適用したフィルタの特性はアナログフィルタとして確認する\n",
    "\n",
    "```python\n",
    "b_ana, a_ana = signal.butter(N, Wn, \"low\", analog=True)\n",
    "w, h = signal.freqs(b_ana, a_ana)\n",
    "plt.plot(w, 20*np.log10(abs(h)))\n",
    "```\n",
    "\n",
    "b_ana,a_anaはアナログフィルタとしての定数である。また、wは無次元周波数である。\n",
    "合わせて、カットオフ周波数(無次元)の表示する  \n",
    "あるxの値に縦線を引きたい場合、下記のようにする。\n",
    "```python\n",
    "plt.axvline(Wn, color='green',label=\"cutoff freq\")\n",
    "```\n",
    "\n",
    "WstopやWpassもプロットし、フィルタが設計通りの特性になっていることを確認する"
   ]
  },
  {
   "cell_type": "code",
   "execution_count": null,
   "metadata": {},
   "outputs": [],
   "source": []
  },
  {
   "cell_type": "markdown",
   "metadata": {},
   "source": [
    "## 窓関数\n",
    "```np.hamming(size)```を用いることで容易にハミング窓が作成できる。  \n",
    "これをローパスフィルタ適用済みのy_lowと掛け合わせる"
   ]
  },
  {
   "cell_type": "code",
   "execution_count": null,
   "metadata": {},
   "outputs": [],
   "source": []
  },
  {
   "cell_type": "markdown",
   "metadata": {},
   "source": [
    "プロットすることで、初期時間と最終時間の振幅が小さくなっていることがわかる"
   ]
  },
  {
   "cell_type": "code",
   "execution_count": null,
   "metadata": {},
   "outputs": [],
   "source": []
  },
  {
   "cell_type": "markdown",
   "metadata": {},
   "source": [
    "## FFT処理\n",
    "\n",
    "下記のようにfftfreqメソッドを用いれば、周波数配列を作成できる。\n",
    "ただし、データは前半分でよい（後ろ半分は不要）  \n",
    "\n",
    "```python\n",
    "np.fft.fftfreq(y_win.size,dt)\n",
    "```\n",
    "\n",
    "さらにfftメソッドを用いればFFTできる    \n",
    "こちらもデータは前半分でよい\n",
    "```python\n",
    "np.fft.fft(y_data)\n",
    "```\n",
    "\n",
    "元データ、ローパスフィルタをかけた後のデータ、窓関数も適用したデータの３データ分FFTする"
   ]
  },
  {
   "cell_type": "code",
   "execution_count": null,
   "metadata": {},
   "outputs": [],
   "source": []
  },
  {
   "cell_type": "markdown",
   "metadata": {},
   "source": [
    "元データ、ローパスフィルタをかけた後のデータ、窓関数も適用したデータのFFTの振幅をプロットする。  \n",
    "ローパスフィルタにて90\\[Hz\\]付近から減衰していることがわかる。   \n",
    "また、窓関数の減衰の影響も確認できる  "
   ]
  },
  {
   "cell_type": "code",
   "execution_count": null,
   "metadata": {},
   "outputs": [],
   "source": []
  },
  {
   "cell_type": "markdown",
   "metadata": {},
   "source": [
    "## おまけ\n",
    "上凸のピーク値検出には、signal.argrelmaxが便利である\n",
    "該当のindexを取得できる。\n",
    "```python\n",
    "maxp = signal.argrelmax(np.abs(y_fft_win),order=30)\n",
    "```"
   ]
  },
  {
   "cell_type": "code",
   "execution_count": null,
   "metadata": {},
   "outputs": [],
   "source": []
  },
  {
   "cell_type": "markdown",
   "metadata": {},
   "source": [
    "```np.abs(y_fft_win)```のplot以外に、```plt.scatter(freq[maxp],np.abs(y_fft_win[maxp]))```を行うといい感じに表示される"
   ]
  },
  {
   "cell_type": "code",
   "execution_count": null,
   "metadata": {},
   "outputs": [],
   "source": []
  },
  {
   "cell_type": "markdown",
   "metadata": {},
   "source": [
    "## 参考文書\n",
    "\n",
    "[実践に即したデジタル フィルター設計の紹介](https://jp.mathworks.com/help/signal/examples/practical-introduction-to-digital-filter-design.html) MathWorks\n"
   ]
  },
  {
   "cell_type": "markdown",
   "metadata": {},
   "source": [
    "---\n",
    "\n",
    "<div align=\"right\">This Text by Katayama is licensed under <a harf=\"https://creativecommons.org/licenses/by/4.0/\">a Creative Commons Attribution 4.0 International License. </a>   </div>\n",
    "<img src=\"./by.png\" width=100pt align=\"right\">\n"
   ]
  }
 ],
 "metadata": {
  "kernelspec": {
   "display_name": "Python 3",
   "language": "python",
   "name": "python3"
  },
  "language_info": {
   "codemirror_mode": {
    "name": "ipython",
    "version": 3
   },
   "file_extension": ".py",
   "mimetype": "text/x-python",
   "name": "python",
   "nbconvert_exporter": "python",
   "pygments_lexer": "ipython3",
   "version": "3.5.4"
  }
 },
 "nbformat": 4,
 "nbformat_minor": 2
}
