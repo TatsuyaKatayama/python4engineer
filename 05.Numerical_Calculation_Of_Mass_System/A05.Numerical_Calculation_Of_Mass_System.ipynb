{
 "cells": [
  {
   "cell_type": "markdown",
   "metadata": {},
   "source": [
    "<a name=\"anker1\"></a>\n",
    "# 1質点系の運動方程式\n",
    "---\n",
    "下図のように質量mの質点が減衰係数c、バネ定数kで変位uで運動する場合を考える\n",
    "\n",
    "\n",
    "<img src=\"./mass_motion_eq.gif\">\n",
    "\n",
    "\n",
    "この場合、運動方程式は次のとおりである\n",
    "\n",
    "$$\n",
    "\\begin{equation*}\n",
    "m \\frac{d^2}{dt^2}u(t) + c \\frac{d}{dt}u(t) + ku(t) = F(t)\n",
    "\\end{equation*}\n",
    "$$"
   ]
  },
  {
   "cell_type": "markdown",
   "metadata": {},
   "source": [
    "## Sympyによる数式処理\n",
    "### 準備\n",
    "次の操作を実行する\n",
    "1. matplotlibをjupyter上で表示できるマジックコマンド\n",
    "2. numpyライブラリをnp名称でインポート\n",
    "3. sympyライブラリのインポート\n",
    "4. 数式表示のおまじない"
   ]
  },
  {
   "cell_type": "code",
   "execution_count": 1,
   "metadata": {},
   "outputs": [],
   "source": [
    "%matplotlib inline\n",
    "import numpy as np\n",
    "import sympy\n",
    "sympy.init_printing()"
   ]
  },
  {
   "cell_type": "markdown",
   "metadata": {},
   "source": [
    "### 運動方程式の定義\n",
    "まずは、変数や関数を定義する。\n",
    "1. 変位の関数であるu、外力の関数であるFを定義する。\n",
    "2. 時間、質量、減衰係数、ばね定数、１階の積分定数C1(初期速度)、２階の積分定数C2(初期変位）を定義する"
   ]
  },
  {
   "cell_type": "code",
   "execution_count": 2,
   "metadata": {},
   "outputs": [],
   "source": [
    "u = sympy.Function(\"u\")\n",
    "F = sympy.Function(\"F\")\n",
    "t, m, c, k, C1, C2 = sympy.symbols(\"t m c k C1 C2\")"
   ]
  },
  {
   "cell_type": "markdown",
   "metadata": {},
   "source": [
    "次に運動方程式を定義する。\n",
    "\n",
    "* uとFはtの関数であることを考慮する\n",
    "* 運動方程式は右辺をゼロとした形で左辺をeq_moという関数としてすること\n",
    "* 定義したeq_moを表示する\n"
   ]
  },
  {
   "cell_type": "code",
   "execution_count": 3,
   "metadata": {},
   "outputs": [
    {
     "data": {
      "image/png": "[encoded data removed]",
      "text/latex": [
       "$$c \\frac{d}{d t} u{\\left (t \\right )} + k u{\\left (t \\right )} + m \\frac{d^{2}}{d t^{2}}  u{\\left (t \\right )} - F{\\left (t \\right )}$$"
      ],
      "text/plain": [
       "                          2             \n",
       "  d                      d              \n",
       "c⋅──(u(t)) + k⋅u(t) + m⋅───(u(t)) - F(t)\n",
       "  dt                      2             \n",
       "                        dt              "
      ]
     },
     "execution_count": 3,
     "metadata": {},
     "output_type": "execute_result"
    }
   ],
   "source": [
    "eq_mo = m * u(t).diff(t).diff(t) + c * u(t).diff(t) + k * u(t) - F(t)\n",
    "eq_mo"
   ]
  },
  {
   "cell_type": "markdown",
   "metadata": {},
   "source": [
    "## 非減衰自由振動\n",
    "---\n",
    "\n",
    "減衰0、外力0の条件下で、初速0,初期変位1の自由振動を計算する\n",
    "解くべき方程式は下記の通り。\n",
    "\n",
    "$$\n",
    "\\begin{align*}\n",
    "m \\frac{d^2u}{dt^2}  + ku & = 0 \\\\\n",
    "\\frac{du_0}{dt} &= 0 \\\\\n",
    "u_0 &= 1\n",
    "\\end{align*}\n",
    "$$\n",
    "\n",
    "m=1, k=4$\\pi^2$の場合のt=0～8のu(t)を各種方法でプロットする\n",
    "\n",
    "### Sympyによる数式処理\n",
    "eq_moをそのままu(t)について解くと計算負荷が大きいので、\n",
    "まずは c=0, F(t)=0を代入し非減衰自由振動方程式を作成する\n",
    "\n",
    "非減衰自由振動方程式の左辺をeq_freeとして表示する"
   ]
  },
  {
   "cell_type": "code",
   "execution_count": 4,
   "metadata": {},
   "outputs": [
    {
     "data": {
      "image/png": "[encoded data removed]",
      "text/latex": [
       "$$k u{\\left (t \\right )} + m \\frac{d^{2}}{d t^{2}}  u{\\left (t \\right )}$$"
      ],
      "text/plain": [
       "             2      \n",
       "            d       \n",
       "k⋅u(t) + m⋅───(u(t))\n",
       "             2      \n",
       "           dt       "
      ]
     },
     "execution_count": 4,
     "metadata": {},
     "output_type": "execute_result"
    }
   ],
   "source": [
    "arg_free = {c:0, F(t):0}\n",
    "eq_free = eq_mo.subs(arg_free)\n",
    "eq_free"
   ]
  },
  {
   "cell_type": "markdown",
   "metadata": {},
   "source": [
    "eq_freeをu(t)について解いて表示する"
   ]
  },
  {
   "cell_type": "code",
   "execution_count": 5,
   "metadata": {},
   "outputs": [
    {
     "data": {
      "image/png": "[encoded data removed]",
      "text/latex": [
       "$$u{\\left (t \\right )} = C_{1} e^{- t \\sqrt{- \\frac{k}{m}}} + C_{2} e^{t \\sqrt{- \\frac{k}{m}}}$$"
      ],
      "text/plain": [
       "                  _____             _____\n",
       "                 ╱ -k              ╱ -k  \n",
       "           -t⋅  ╱  ───        t⋅  ╱  ─── \n",
       "              ╲╱    m           ╲╱    m  \n",
       "u(t) = C₁⋅ℯ             + C₂⋅ℯ           "
      ]
     },
     "execution_count": 5,
     "metadata": {},
     "output_type": "execute_result"
    }
   ],
   "source": [
    "solu_free = sympy.dsolve(\n",
    "        eq_free,\n",
    "        u(t)\n",
    "    )\n",
    "solu_free"
   ]
  },
  {
   "cell_type": "markdown",
   "metadata": {},
   "source": [
    "よってsolu_free（右辺）の微分よりdu/dtは"
   ]
  },
  {
   "cell_type": "code",
   "execution_count": 6,
   "metadata": {},
   "outputs": [
    {
     "data": {
      "image/png": "[encoded data removed]",
      "text/latex": [
       "$$- C_{1} \\sqrt{- \\frac{k}{m}} e^{- t \\sqrt{- \\frac{k}{m}}} + C_{2} \\sqrt{- \\frac{k}{m}} e^{t \\sqrt{- \\frac{k}{m}}}$$"
      ],
      "text/plain": [
       "                       _____                       _____\n",
       "                      ╱ -k                        ╱ -k  \n",
       "         _____  -t⋅  ╱  ───           _____  t⋅  ╱  ─── \n",
       "        ╱ -k       ╲╱    m           ╱ -k      ╲╱    m  \n",
       "- C₁⋅  ╱  ─── ⋅ℯ             + C₂⋅  ╱  ─── ⋅ℯ           \n",
       "     ╲╱    m                      ╲╱    m               "
      ]
     },
     "execution_count": 6,
     "metadata": {},
     "output_type": "execute_result"
    }
   ],
   "source": [
    "dsolu_freedt = sympy.diff(solu_free.rhs,t)\n",
    "dsolu_freedt"
   ]
  },
  {
   "cell_type": "markdown",
   "metadata": {},
   "source": [
    "t=0のとき、下記の境界条件があるので\n",
    "\n",
    "$$\n",
    "\\begin{align*}\n",
    "\\frac{du_0}{dt} &= 0 \\\\\n",
    "u_0 &= 1\n",
    "\\end{align*}\n",
    "$$\n",
    "\n",
    "連立方程式を解くとC1,C2は以下の通りである"
   ]
  },
  {
   "cell_type": "code",
   "execution_count": 7,
   "metadata": {},
   "outputs": [
    {
     "data": {
      "image/png": "[encoded data removed]",
      "text/latex": [
       "$$\\left \\{ C_{1} : 0.5, \\quad C_{2} : 0.5\\right \\}$$"
      ],
      "text/plain": [
       "{C₁: 0.5, C₂: 0.5}"
      ]
     },
     "execution_count": 7,
     "metadata": {},
     "output_type": "execute_result"
    }
   ],
   "source": [
    "dict_ci = sympy.solve(\n",
    "    [solu_free.rhs.subs(t,0) - 1., \n",
    "     dsolu_freedt.subs(t,0)- 0.],\n",
    "    [C1,C2])\n",
    "dict_ci"
   ]
  },
  {
   "cell_type": "markdown",
   "metadata": {},
   "source": [
    "上記で求めたC1,C2とm=1,k=4をsolu_freeに代入すると、"
   ]
  },
  {
   "cell_type": "code",
   "execution_count": 8,
   "metadata": {},
   "outputs": [
    {
     "data": {
      "image/png": "[encoded data removed]",
      "text/plain": [
       "<matplotlib.figure.Figure at 0x1b513f90a20>"
      ]
     },
     "metadata": {},
     "output_type": "display_data"
    },
    {
     "data": {
      "image/png": "[encoded data removed]",
      "text/plain": [
       "<matplotlib.figure.Figure at 0x1b5154376a0>"
      ]
     },
     "metadata": {},
     "output_type": "display_data"
    },
    {
     "data": {
      "text/plain": [
       "<sympy.plotting.plot.Plot at 0x1b515437cf8>"
      ]
     },
     "execution_count": 8,
     "metadata": {},
     "output_type": "execute_result"
    }
   ],
   "source": [
    "real_react_free, img_react_free = solu_free.subs(dict_ci).subs({m:1,k:4*np.pi**2.}).rhs.as_real_imag()\n",
    "\n",
    "sympy.plotting.plot(real_react_free, (t,0,8))\n",
    "sympy.plotting.plot(img_react_free, (t,0,8))"
   ]
  },
  {
   "cell_type": "markdown",
   "metadata": {},
   "source": [
    "虚部が消えて実部だけになっていることが確認でき、解析的に階を得られた。\n",
    "また下記の通り、1Hzの固有周波数で自由振動していることがわかる。\n",
    "\n",
    "$$\n",
    "\\begin{align*}\n",
    "f &= \\frac{1}{2\\pi}\\sqrt\\frac{k}{m} \\\\\n",
    "f &= 1.0  \\quad [Hz]\n",
    "\\end{align*}\n",
    "$$\n"
   ]
  },
  {
   "cell_type": "markdown",
   "metadata": {},
   "source": [
    "### Scipyによる数値計算\n",
    "scipyのodeint（常微分方程式）ソルバを用いて同様の非減衰自由振動問題を計算する。\n",
    "\n",
    "$$\n",
    "\\begin{align*}\n",
    "m \\frac{d^2}{dt^2}u  + ku & = 0 \\\\\n",
    "\\frac{du_0}{dt} &= 0 \\\\\n",
    "u_0 &= 1\n",
    "\\end{align*}\n",
    "$$\n",
    "まずはscipyを使う準備\n",
    "1. matplotlibライブラリのpyplotモジュールをpltという名称でインポート\n",
    "2. scipy.integrateモジュール内のode関数をインポート"
   ]
  },
  {
   "cell_type": "code",
   "execution_count": 9,
   "metadata": {},
   "outputs": [],
   "source": [
    "from matplotlib import pyplot as plt\n",
    "from scipy.integrate import odeint"
   ]
  },
  {
   "cell_type": "markdown",
   "metadata": {},
   "source": [
    "まずは、下記のように変数変換を考える\n",
    "\n",
    "$$\n",
    "\\frac{d}{dt}u := v\n",
    "$$\n",
    "\n",
    "この関係を考慮すれば、２階の常微分方程式が１階の連立常微分方程式で表現できる\n",
    "\n",
    "$$\n",
    "\\begin{align*}\n",
    "\\left\\{\n",
    "    \\begin{array}{l}\n",
    "        \\large \\frac{d}{dt} \\normalsize v = - \\large \\frac{k}{m} \\normalsize u  \\\\\n",
    "        \\large \\frac{d}{dt} \\normalsize u= v\n",
    "     \\end{array}\n",
    "\\right.\n",
    "\\end{align*}\n",
    "$$\n",
    "\n",
    "変数x(=(v,u))でまとめ、xと時間tを引数として$\\large \\left[ \\frac{dv}{dt},\\frac{du}{dt}\\right]$を返す関数func_odeを定義する"
   ]
  },
  {
   "cell_type": "code",
   "execution_count": 10,
   "metadata": {},
   "outputs": [],
   "source": [
    "def funcs_ode(x,t):\n",
    "    dvdt = - 4. * np.pi **2 / 1. * x[1]\n",
    "    dudt = x[0]\n",
    "    return [dvdt, dudt]"
   ]
  },
  {
   "cell_type": "markdown",
   "metadata": {},
   "source": [
    "次に、初期値x0と時間ti(0から8までを801分割したベクトル)を定義する。\n",
    "(変数tはsympyにて使っているので変数名はtiとすること)"
   ]
  },
  {
   "cell_type": "code",
   "execution_count": 11,
   "metadata": {},
   "outputs": [],
   "source": [
    "x0 = [0., 1.]\n",
    "ti = np.linspace(0,8,801)"
   ]
  },
  {
   "cell_type": "markdown",
   "metadata": {},
   "source": [
    "初期値x0でtiに示す時間ステップでxを計算し、変位uをプロットする。"
   ]
  },
  {
   "cell_type": "code",
   "execution_count": 12,
   "metadata": {},
   "outputs": [
    {
     "data": {
      "text/plain": [
       "[<matplotlib.lines.Line2D at 0x1b5158d95c0>]"
      ]
     },
     "execution_count": 12,
     "metadata": {},
     "output_type": "execute_result"
    },
    {
     "data": {
      "image/png": "[encoded data removed]",
      "text/plain": [
       "<matplotlib.figure.Figure at 0x1b51543bb00>"
      ]
     },
     "metadata": {},
     "output_type": "display_data"
    }
   ],
   "source": [
    "x = odeint(funcs_ode,x0, ti)\n",
    "plt.plot(ti,x[:,1])"
   ]
  },
  {
   "cell_type": "markdown",
   "metadata": {},
   "source": [
    "## 強制振動\n",
    "---\n",
    "m=1, k=4$\\pi^2$, 減衰係数c=$0.8\\pi$ (減衰比$\\zeta=0.2$)、外力F(t)の条件下で\n",
    "上記に示す[１質点系の強制振動](#anker1)の数値計算を行う\n",
    "\n",
    "$$\n",
    "\\begin{equation*}\n",
    "m \\frac{d^2}{dt^2}u(t) + c \\frac{d}{dt}u(t) + ku(t) = F(t)\n",
    "\\end{equation*}\n",
    "$$\n",
    "\n",
    "外力F(t)は下記とする。尚、sgnはシグナム関数(符号関数)である\n",
    "$$\n",
    "F(t) = \\mbox{sgn} \\hspace{1pt} sin(0.25\\pi (t-1.0)) +1.0\n",
    "$$\n",
    "\n",
    "シグナム関数は正の値の場合1,負の値の場合-1を取る関数で、外力Ftは次の通りプロットできる   \n",
    "時間は上で定義したtiを用いる"
   ]
  },
  {
   "cell_type": "code",
   "execution_count": 13,
   "metadata": {},
   "outputs": [
    {
     "data": {
      "text/plain": [
       "[<matplotlib.lines.Line2D at 0x1b51591fa58>]"
      ]
     },
     "execution_count": 13,
     "metadata": {},
     "output_type": "execute_result"
    },
    {
     "data": {
      "image/png": "[encoded data removed]",
      "text/plain": [
       "<matplotlib.figure.Figure at 0x1b5158e1588>"
      ]
     },
     "metadata": {},
     "output_type": "display_data"
    }
   ],
   "source": [
    "Ft = np.sign(np.sin(0.25*np.pi*(ti-1) )) +1\n",
    "plt.plot(ti,Ft)"
   ]
  },
  {
   "cell_type": "markdown",
   "metadata": {},
   "source": [
    "まずは、前項と同じように変数変換を考える\n",
    "\n",
    "$$\n",
    "\\frac{d}{dt}u := v\n",
    "$$\n",
    "\n",
    "この関係を考慮すれば、前項同様に２階の常微分方程式が１階の連立常微分方程式で表現できる\n",
    "\n",
    "$$\n",
    "\\begin{align*}\n",
    "\\left\\{\n",
    "    \\begin{array}{l}\n",
    "        \\large \\frac{d}{dt} \\normalsize v = F(t)- \\large \\frac{c}{m} \\normalsize v  - \\large \\frac{k}{m} \\normalsize u  \\\\\n",
    "        \\large \\frac{d}{dt} \\normalsize u= v\n",
    "     \\end{array}\n",
    "\\right.\n",
    "\\end{align*}\n",
    "$$\n",
    "\n",
    "変数x(=(v,u))でまとめ、xと時間tを引数として$\\large \\left[ \\frac{dv}{dt},\\frac{du}{dt}\\right]$を返す関数func_ode2を定義する"
   ]
  },
  {
   "cell_type": "code",
   "execution_count": 14,
   "metadata": {},
   "outputs": [],
   "source": [
    "def funcs_ode2(x,t):\n",
    "    dvdt = np.sign(np.sin(0.25*np.pi*(t-1.))) +1. - 0.8 * np.pi  / 1. * x[0] - 4. * np.pi **2 / 1. * x[1]\n",
    "    dudt = x[0]\n",
    "    return [dvdt, dudt]"
   ]
  },
  {
   "cell_type": "markdown",
   "metadata": {},
   "source": [
    "今回は外力の応答を見たいので、初期値は速度、変位ともに0,0とする。  \n",
    "時間は前項同様の変数ti(0から8までを801分割したベクトル)を再定義する。（前回定義しているなら不要）"
   ]
  },
  {
   "cell_type": "code",
   "execution_count": 15,
   "metadata": {},
   "outputs": [],
   "source": [
    "x0 = [0., 0.]\n",
    "ti = np.linspace(0,8,801)"
   ]
  },
  {
   "cell_type": "markdown",
   "metadata": {},
   "source": [
    "初期値x0でtiに示す時間ステップでxを計算し、変位uをプロットする。"
   ]
  },
  {
   "cell_type": "code",
   "execution_count": 16,
   "metadata": {},
   "outputs": [
    {
     "data": {
      "text/plain": [
       "[<matplotlib.lines.Line2D at 0x1b51596b358>]"
      ]
     },
     "execution_count": 16,
     "metadata": {},
     "output_type": "execute_result"
    },
    {
     "data": {
      "image/png": "[encoded data removed]",
      "text/plain": [
       "<matplotlib.figure.Figure at 0x1b5158c2978>"
      ]
     },
     "metadata": {},
     "output_type": "display_data"
    }
   ],
   "source": [
    "x = odeint(funcs_ode2,x0, ti)\n",
    "plt.plot(ti,x[:,1])"
   ]
  },
  {
   "cell_type": "markdown",
   "metadata": {},
   "source": [
    "時刻1[s]より応答変位が生じている。約4[s]地点で準静的な力のつり合い状態となっていることがわかる。"
   ]
  },
  {
   "cell_type": "markdown",
   "metadata": {},
   "source": [
    "---\n",
    "<a rel=\"license\" href=\"http://creativecommons.org/licenses/by/4.0/\"><img align=\"right\" alt=\"Creative Commons License\" style=\"border-width:0\" src=\"https://i.creativecommons.org/l/by/4.0/88x31.png\" /></a><br /><br />\n",
    "<div align=\"right\"><span xmlns:dct=\"http://purl.org/dc/terms/\" property=\"dct:title\">python4engineer</span> by <a xmlns:cc=\"http://creativecommons.org/ns#\" href=\"https://github.com/TatsuyaKatayama/python4engineer\" property=\"cc:attributionName\" rel=\"cc:attributionURL\">TatsuyaKatayama</a> is licensed under a <a rel=\"license\" href=\"http://creativecommons.org/licenses/by/4.0/\">Creative Commons Attribution 4.0 International License</a>. </div>\n"
   ]
  }
 ],
 "metadata": {
  "kernelspec": {
   "display_name": "Python 3",
   "language": "python",
   "name": "python3"
  },
  "language_info": {
   "codemirror_mode": {
    "name": "ipython",
    "version": 3
   },
   "file_extension": ".py",
   "mimetype": "text/x-python",
   "name": "python",
   "nbconvert_exporter": "python",
   "pygments_lexer": "ipython3",
   "version": "3.5.4"
  }
 },
 "nbformat": 4,
 "nbformat_minor": 2
}
